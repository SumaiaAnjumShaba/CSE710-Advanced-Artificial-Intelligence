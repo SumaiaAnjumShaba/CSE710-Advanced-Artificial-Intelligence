{
  "nbformat": 4,
  "nbformat_minor": 0,
  "metadata": {
    "colab": {
      "provenance": [],
      "authorship_tag": "ABX9TyNEkuHLF9NgmSJWgcNhQWwe",
      "include_colab_link": true
    },
    "kernelspec": {
      "name": "python3",
      "display_name": "Python 3"
    },
    "language_info": {
      "name": "python"
    }
  },
  "cells": [
    {
      "cell_type": "markdown",
      "metadata": {
        "id": "view-in-github",
        "colab_type": "text"
      },
      "source": [
        "<a href=\"https://colab.research.google.com/github/SumaiaAnjumShaba/CSE710-Advanced-Artificial-Intelligence/blob/main/24366030_CSE710_P2_HMM.ipynb\" target=\"_parent\"><img src=\"https://colab.research.google.com/assets/colab-badge.svg\" alt=\"Open In Colab\"/></a>"
      ]
    },
    {
      "cell_type": "markdown",
      "source": [
        "###Write a program to determine learning parameters of HMM using unsupervised learning (Baum Welch algorithm) considering the following dataset. You have to write codes for the necessary algorithms, the use of library functions are not allowed."
      ],
      "metadata": {
        "id": "FFxpqs1AnlDs"
      }
    },
    {
      "cell_type": "code",
      "source": [
        "import numpy as np\n",
        "\n",
        "observations_sequences = [\n",
        "    ['R', 'R', 'D', 'D', 'R', 'D', 'R'],\n",
        "    ['D', 'R', 'D', 'D', 'R', 'R', 'D'],\n",
        "    ['R', 'R', 'D', 'D', 'R', 'D', 'R'],\n",
        "    ['R', 'D', 'D', 'D', 'D', 'R', 'R'],\n",
        "    ['D', 'R', 'D', 'D', 'D', 'R', 'R']\n",
        "]\n",
        "\n",
        "obs_map = {'R': 0, 'D': 1} #Mapping if R then map  to 0 and D then map  to 1\n",
        "\n",
        "number_states = 2  # H, L\n",
        "\n",
        "num_obs = len(observations_sequences[0]) # Number of observations\n",
        "\n",
        "np.random.seed(42)  # it will generate same number every time when run the code\n",
        "\n",
        "\n",
        "pi = np.random.rand(number_states)\n",
        "\n",
        "pi /= pi.sum()  # normalizes the values so that they sum to 1\n",
        "\n",
        "# Transition probability matrix = A (State i to state j)\n",
        "\n",
        "A = np.random.rand(number_states, number_states) # create 2X2 matrix as states are two H, L\n",
        "\n",
        "A /= A.sum(axis=1, keepdims=True) # normalized each row\n",
        "\n",
        "# Emission probability matrix B= (observing k from state i)\n",
        "\n",
        "B = np.random.rand(number_states, len(obs_map))\n",
        "\n",
        "B /= B.sum(axis=1, keepdims=True) # normalized each row\n",
        "\n",
        "print(\"Generating Initial probability using random number\", pi)\n",
        "\n",
        "print(\"Initial transition probability matrix:\\n\", A)\n",
        "\n",
        "print(\"Initial emission probability matrix:\\n\", B)"
      ],
      "metadata": {
        "colab": {
          "base_uri": "https://localhost:8080/"
        },
        "id": "rAoYx-cqOm6j",
        "outputId": "81deefda-8e89-42e1-ba5a-c3663c572111"
      },
      "execution_count": null,
      "outputs": [
        {
          "output_type": "stream",
          "name": "stdout",
          "text": [
            "Generating Initial probability using random number [0.28261752 0.71738248]\n",
            "Initial transition probability matrix:\n",
            " [[0.55010153 0.44989847]\n",
            " [0.50003865 0.49996135]]\n",
            "Initial emission probability matrix:\n",
            " [[0.06284339 0.93715661]\n",
            " [0.45915117 0.54084883]]\n"
          ]
        }
      ]
    },
    {
      "cell_type": "markdown",
      "source": [
        "#Forward Algorithm#"
      ],
      "metadata": {
        "id": "hS56GyxNOuKh"
      }
    },
    {
      "cell_type": "code",
      "source": [
        "def forward_algorithm(obs_seq, pi, A, B):\n",
        "\n",
        "    T = len(obs_seq)  # Length of the observation sequence\n",
        "\n",
        "    N = len(pi)  # Number of states\n",
        "\n",
        "    alpha = np.zeros((T, N))  # Initialize the alpha table with zeros\n",
        "\n",
        "    #alpha_1_k(k=l,h state)=initial probabilty(s1=k) * emission probabilty (o1|s1=k)\n",
        "\n",
        "    first_observation_index_0 = obs_map[obs_seq[0]]  #mapping observation R or D into 0 or 1\n",
        "\n",
        "    alpha[0, :] = pi * B[:, first_observation_index_0]  #starting with t=0\n",
        "\n",
        "    for t in range(1, T): #starting t=1 to T\n",
        "\n",
        "        current_observation_index = obs_map[obs_seq[t]]\n",
        "\n",
        "        for j in range(N):\n",
        "\n",
        "            sum_previous_alpha = np.sum(alpha[t-1, :] * A[:, j])\n",
        "\n",
        "            alpha[t, j] = sum_previous_alpha * B[j, current_observation_index]\n",
        "\n",
        "            #alpha_k_t=emission probabilty(o_t|st=k) summation of i [(alpha_i_t-1)*transtion probabilty(st=k|st-1=i)]\n",
        "\n",
        "    return alpha\n"
      ],
      "metadata": {
        "id": "SK1Qn-vWOwKb"
      },
      "execution_count": null,
      "outputs": []
    },
    {
      "cell_type": "markdown",
      "source": [
        "#Backward Algorithm#"
      ],
      "metadata": {
        "id": "SGrljQjYO0a9"
      }
    },
    {
      "cell_type": "code",
      "source": [
        "def backward_algorithm(obs_seq, A, B):\n",
        "\n",
        "    T = len(obs_seq)\n",
        "\n",
        "    N = A.shape[0]\n",
        "\n",
        "    beta = np.zeros((T, N))\n",
        "\n",
        "    beta[T-1, :] = 1\n",
        "\n",
        "    for t in range(T-2, -1, -1):\n",
        "\n",
        "        next_observation_index = obs_map[obs_seq[t+1]]\n",
        "\n",
        "        for i in range(N):\n",
        "\n",
        "            beta[t, i] = np.sum(A[i, :] * B[:, next_observation_index] * beta[t+1, :]) #beta= summation of (transtion probability p(st+1=i|st=k) * emission probabilty p(ot+1|st+1=i) * betait+1 )\n",
        "\n",
        "    return beta"
      ],
      "metadata": {
        "id": "9W_6wMHZO4Z5"
      },
      "execution_count": null,
      "outputs": []
    },
    {
      "cell_type": "markdown",
      "source": [
        "#Beum Welch Algorithm#"
      ],
      "metadata": {
        "id": "NUtuUR23Z3ML"
      }
    },
    {
      "cell_type": "code",
      "source": [
        "def baum_welch(observation_sequences, pi, A, B, num_iter=5):\n",
        "\n",
        "    N = len(pi)  # Number of states\n",
        "\n",
        "    M = len(B[0])  # Number of observation symbols (R and D)\n",
        "\n",
        "    T = len(observation_sequences[0])  # Length of the sequence\n",
        "\n",
        "    for n in range(num_iter):\n",
        "\n",
        "        pi_numerator = np.zeros(N) # N=2 two state H,L\n",
        "\n",
        "        A_numerator = np.zeros((N, N)) # 2x2 matrix\n",
        "\n",
        "        A_denominator = np.zeros(N)\n",
        "\n",
        "        B_numerator = np.zeros((N, M))\n",
        "\n",
        "        B_denominator = np.zeros(N)\n",
        "\n",
        "\n",
        "        for obs_seq in observation_sequences:\n",
        "\n",
        "            alpha = forward_algorithm(obs_seq, pi, A, B)\n",
        "\n",
        "            beta = backward_algorithm(obs_seq, A, B)\n",
        "\n",
        "\n",
        "            gamma = np.zeros((T, N))\n",
        "\n",
        "            eta = np.zeros((T-1, N, N))\n",
        "\n",
        "            for t in range(T):\n",
        "\n",
        "                # Normalization factor  (C)\n",
        "                normalization_factor = np.sum(alpha[t, :] * beta[t, :]) #normaized c= summation of alha and beta\n",
        "\n",
        "                for i in range(N):\n",
        "\n",
        "                    gamma[t, i] = alpha[t, i] * beta[t, i] / normalization_factor #gamma= c*alpha*beta\n",
        "\n",
        "            for t in range(T-1):\n",
        "\n",
        "                denom = np.sum(alpha[t, :] * np.dot(A, B[:, obs_map[obs_seq[t+1]]]) * beta[t+1, :])\n",
        "\n",
        "                for i in range(N):\n",
        "\n",
        "                    for j in range(N):\n",
        "\n",
        "                        #etaij_t=[(alpha_t_i) * A_i_j * B_j_(z_t+1) * beta_(t+1)_(j)] / [summation of{(alpha_t_k)* A_k_l * b_l_(z_t+1) * beta_t+1(l)}]\n",
        "\n",
        "                        eta[t, i, j] = alpha[t, i] * A[i, j] * B[j, obs_map[obs_seq[t+1]]] * beta[t+1, j]\n",
        "\n",
        "                        eta[t, i, j] /= denom\n",
        "\n",
        "            # Update the HMM parameters\n",
        "\n",
        "            #update initaial probabilty\n",
        "\n",
        "            pi_numerator += gamma[0, :]\n",
        "\n",
        "            for t in range(T-1):\n",
        "\n",
        "                #update transtion probabilty\n",
        "\n",
        "                A_numerator += eta[t, :, :]\n",
        "\n",
        "                A_denominator += np.sum(gamma[t, :], axis=0)\n",
        "\n",
        "            for t in range(T):\n",
        "\n",
        "                #update emission probabilty\n",
        "\n",
        "                B_numerator[:, obs_map[obs_seq[t]]] += gamma[t, :]\n",
        "\n",
        "                B_denominator += gamma[t, :]\n",
        "\n",
        "\n",
        "\n",
        "        pi = pi_numerator / len(observation_sequences)\n",
        "\n",
        "        A = A_numerator / A_denominator[:, None]\n",
        "\n",
        "        B = B_numerator / B_denominator[:, None]\n",
        "\n",
        "        print(f\"Iteration {n+1}\")\n",
        "\n",
        "        print(\"Updated Initial state distribution:\", pi)\n",
        "\n",
        "        print(\"Updated Transition matrix:\\n\", A)\n",
        "\n",
        "        print(\"Updated Emission matrix:\\n\", B)\n",
        "\n",
        "        print(\"\\n\")\n",
        "\n",
        "    return pi, A, B\n",
        "\n"
      ],
      "metadata": {
        "id": "hWcU61S5Nwm3"
      },
      "execution_count": null,
      "outputs": []
    },
    {
      "cell_type": "markdown",
      "source": [
        "#Main Function Call#"
      ],
      "metadata": {
        "id": "gBVrLpmXSFGW"
      }
    },
    {
      "cell_type": "code",
      "source": [
        "pi, A, B = baum_welch(observations_sequences, pi, A, B)\n",
        "\n",
        "print(\"After appied baum welch algorithm final HMM Parametrs are \\n \")\n",
        "print(\"Initial Probabilities:\", pi)\n",
        "print(\"Transition Probabilities:\\n\",A)\n",
        "print(\"Emission Probabilities:\\n\",B)"
      ],
      "metadata": {
        "colab": {
          "base_uri": "https://localhost:8080/"
        },
        "id": "OhZkc8kdSJRJ",
        "outputId": "60d5f10e-e655-4c11-904a-e10cdad30e86"
      },
      "execution_count": null,
      "outputs": [
        {
          "output_type": "stream",
          "name": "stdout",
          "text": [
            "Iteration 1\n",
            "Updated Initial state distribution: [0.1842718 0.8157282]\n",
            "Updated Transition matrix:\n",
            " [[0.16586975 0.23325646]\n",
            " [0.23941207 0.36396624]]\n",
            "Updated Emission matrix:\n",
            " [[0.14975051 0.85024949]\n",
            " [0.68609032 0.31390968]]\n",
            "\n",
            "\n",
            "Iteration 2\n",
            "Updated Initial state distribution: [0.13196833 0.86803167]\n",
            "Updated Transition matrix:\n",
            " [[0.10642339 0.22541537]\n",
            " [0.20672173 0.43543421]]\n",
            "Updated Emission matrix:\n",
            " [[0.13743814 0.86256186]\n",
            " [0.64316653 0.35683347]]\n",
            "\n",
            "\n",
            "Iteration 3\n",
            "Updated Initial state distribution: [0.07383625 0.92616375]\n",
            "Updated Transition matrix:\n",
            " [[0.0439909  0.16949733]\n",
            " [0.15960274 0.57178741]]\n",
            "Updated Emission matrix:\n",
            " [[0.12450637 0.87549363]\n",
            " [0.58174204 0.41825796]]\n",
            "\n",
            "\n",
            "Iteration 4\n",
            "Updated Initial state distribution: [0.02183932 0.97816068]\n",
            "Updated Transition matrix:\n",
            " [[0.0060615  0.07030402]\n",
            " [0.07717373 0.74902796]]\n",
            "Updated Emission matrix:\n",
            " [[0.13400726 0.86599274]\n",
            " [0.51946065 0.48053935]]\n",
            "\n",
            "\n",
            "Iteration 5\n",
            "Updated Initial state distribution: [0.00182814 0.99817186]\n",
            "Updated Transition matrix:\n",
            " [[1.09051185e-04 8.86495757e-03]\n",
            " [1.67572587e-02 9.02368958e-01]]\n",
            "Updated Emission matrix:\n",
            " [[0.23599148 0.76400852]\n",
            " [0.48969951 0.51030049]]\n",
            "\n",
            "\n",
            "After appied baum welch algorithm final HMM Parametrs are \n",
            " \n",
            "Initial Probabilities: [0.00182814 0.99817186]\n",
            "Transition Probabilities:\n",
            " [[1.09051185e-04 8.86495757e-03]\n",
            " [1.67572587e-02 9.02368958e-01]]\n",
            "Emission Probabilities:\n",
            " [[0.23599148 0.76400852]\n",
            " [0.48969951 0.51030049]]\n"
          ]
        }
      ]
    }
  ]
}