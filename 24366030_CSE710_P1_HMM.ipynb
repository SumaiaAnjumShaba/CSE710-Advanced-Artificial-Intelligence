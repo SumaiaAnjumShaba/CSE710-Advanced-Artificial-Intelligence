{
  "nbformat": 4,
  "nbformat_minor": 0,
  "metadata": {
    "colab": {
      "provenance": [],
      "authorship_tag": "ABX9TyO39WGNmoafqEgm/SnPzMvk",
      "include_colab_link": true
    },
    "kernelspec": {
      "name": "python3",
      "display_name": "Python 3"
    },
    "language_info": {
      "name": "python"
    }
  },
  "cells": [
    {
      "cell_type": "markdown",
      "metadata": {
        "id": "view-in-github",
        "colab_type": "text"
      },
      "source": [
        "<a href=\"https://colab.research.google.com/github/SumaiaAnjumShaba/CSE710-Advanced-Artificial-Intelligence/blob/main/24366030_CSE710_P1_HMM.ipynb\" target=\"_parent\"><img src=\"https://colab.research.google.com/assets/colab-badge.svg\" alt=\"Open In Colab\"/></a>"
      ]
    },
    {
      "cell_type": "markdown",
      "source": [
        "###  Write a program to determine learning parameters of HMM using supervised learning approach considering the following dataset. You have to write codes for the necessary algorithms, the use of library functions are not allowed.###\n",
        "## States {H, L}  and Observations {R,D}##\n"
      ],
      "metadata": {
        "id": "mqc7YU1irV9q"
      }
    },
    {
      "cell_type": "markdown",
      "source": [
        "**Import library**"
      ],
      "metadata": {
        "id": "qG4lf5BHsDZL"
      }
    },
    {
      "cell_type": "code",
      "execution_count": null,
      "metadata": {
        "id": "Ki7XQAlmqxJE"
      },
      "outputs": [],
      "source": [
        "import numpy as np"
      ]
    },
    {
      "cell_type": "markdown",
      "source": [
        "**Define the Datasets**"
      ],
      "metadata": {
        "id": "PtHmC59Gs2kb"
      }
    },
    {
      "cell_type": "code",
      "source": [
        "#States sequence\n",
        "\n",
        "states= [['H','L','L','H','H','L','H'], #S1\n",
        "         ['L','L','H','H','H','L','H'], #S2\n",
        "         ['L','H','H','H','H','L','H'], #S3\n",
        "         ['L','L','H','H','L','H','L'], #S4\n",
        "         ['H','H','H','L','L','H','L'], #S5\n",
        "         ]\n",
        "# Observation sequences\n",
        "\n",
        "observations=[['R','R','D','D','R','D','R'],\n",
        "              ['D','R','D','D','R','R','D'],\n",
        "              ['R','D','D','D','R','D','R'],\n",
        "              ['R','R','R','D','D','R','D'],\n",
        "              ['D','R','D','D','D','D','R']\n",
        "              ]\n"
      ],
      "metadata": {
        "id": "QZGf2q0gtHFD"
      },
      "execution_count": null,
      "outputs": []
    },
    {
      "cell_type": "markdown",
      "source": [
        "**Count Initial probabilities**"
      ],
      "metadata": {
        "id": "MematviVZjm4"
      }
    },
    {
      "cell_type": "code",
      "source": [
        "def count_initial_probabilities(states):\n",
        "\n",
        "  initial_counts = {'H': 0, 'L': 0} #create dict initial_counts which count the start state for each state sequences\n",
        "\n",
        "  total_length_of_states_sequences =len(states) #count the lenght of the ststes sequences\n",
        "\n",
        "  count_initial_probabilitie = {} # create a dict initial_probabilitie  it will hold the initial probabilities of \"high\" and \"low\" states\n",
        "\n",
        "  #print(total_length_of_states_sequences) =5\n",
        "\n",
        "  for first_state_each_sequence in states:\n",
        "\n",
        "    first_state_sequence = first_state_each_sequence[0] #get the first state of sequence. 1st state  ['H','L','L','H','H','L','H'] get \"H\" from here\n",
        "\n",
        "    initial_counts[first_state_sequence] += 1  #increment the \"H\",\"L\" counts\n",
        "\n",
        "\n",
        "  #print(initial_counts) # {'H': 2, 'L': 3}\n",
        "\n",
        "  #print(initial_counts['H'])  # get the number of sequence start with \"H\" is 2\n",
        "\n",
        "  #for h/i initial probabilities = total number of state starts with i(h/i)/ total number of states sequences\n",
        "\n",
        "  high_probability = initial_counts['H'] /  total_length_of_states_sequences #(2/5)\n",
        "\n",
        "  low_probability = initial_counts['L'] / total_length_of_states_sequences #(3/5)\n",
        "\n",
        "  count_initial_probabilitie['H'] = high_probability\n",
        "\n",
        "  count_initial_probabilitie['l'] = low_probability\n",
        "\n",
        "  #print(initial_probabilities) #{h:0.4, l=0.6}\n",
        "\n",
        "  return count_initial_probabilitie\n",
        "\n"
      ],
      "metadata": {
        "id": "a0DidLLyZwyX"
      },
      "execution_count": null,
      "outputs": []
    },
    {
      "cell_type": "markdown",
      "source": [
        "**Count Transition Probabilities**\n",
        "\n"
      ],
      "metadata": {
        "id": "SBfrC3MrfEpK"
      }
    },
    {
      "cell_type": "code",
      "source": [
        "def count_transition_probabilities(states):\n",
        "\n",
        "  # 4 transtions H->H, H->L, L->H, L->L\n",
        "\n",
        "  #transitation probability, aij(state i to state j)=(number of transitation i to j)/(total number of transition start with i)\n",
        "\n",
        "   transition_counts = { 'H': {'H': 0, 'L': 0}, 'L': {'H': 0, 'L': 0} } #initalizing H->H, H->L, L->H, L->L all value are zeros\n",
        "\n",
        "   transition_probabilitie = {'H': {'H': 0.0, 'L': 0.0}, 'L': {'H': 0.0, 'L': 0.0}}\n",
        "\n",
        "\n",
        "   for sequence in states:\n",
        "\n",
        "    for i in range(len(sequence) - 1): # until the second last one\n",
        "\n",
        "      from_state = sequence[i] # H or L or\n",
        "\n",
        "      to_state = sequence[i + 1] # next state of the current state [i= current state , i+1 is the next state]\n",
        "\n",
        "      transition_counts[from_state][to_state] += 1\n",
        "\n",
        "   #print(transition_counts )  #  {'H': {'H': 9, 'L': 8}, 'L': {'H': 9, 'L': 4}}\n",
        "\n",
        "   #print(transition_counts.items() )\n",
        "\n",
        "   #transitation probability, aij(state i to state j)=(number of transitation i to j)/(total number of transition start with i)\n",
        "\n",
        "   for from_state in transition_counts:\n",
        "\n",
        "    total_transitions = sum(transition_counts[from_state].values())  #it will count total number of  transition starting from \"H\" or \"L\"\n",
        "\n",
        "    #print(from_state)\n",
        "\n",
        "    #print(total_transitions)  # it will give transition Start with \"H\" is 17 and Start with \"L\" is 13\n",
        "\n",
        "    for to_state in transition_counts[from_state]:\n",
        "\n",
        "      transition_prob = transition_counts[from_state][to_state] / total_transitions\n",
        "\n",
        "      transition_probabilitie[from_state][to_state] = transition_prob\n",
        "\n",
        "   return transition_probabilitie\n",
        "\n"
      ],
      "metadata": {
        "id": "6KpsWPgAfWot"
      },
      "execution_count": null,
      "outputs": []
    },
    {
      "cell_type": "markdown",
      "source": [
        "**Count Emission Probabilities**"
      ],
      "metadata": {
        "id": "hMbK5fWzDQb6"
      }
    },
    {
      "cell_type": "code",
      "source": [
        "def count_emission_probabilities(states,observations):\n",
        "\n",
        "  # two states =\"H\", \"L\"\n",
        "\n",
        "  # 4 emission probabilities H->R, H->D, L->R, L->D\n",
        "\n",
        "  state_counts = {'H': 0, 'L': 0}\n",
        "\n",
        "  emission_counts = {'H': {'R': 0, 'D': 0}, 'L': {'R': 0, 'D': 0}}\n",
        "\n",
        "  emission_probabilitie = {}\n",
        "\n",
        "  for state_seq, observation_seq in zip(states, observations):  #it will pair each state sequence with its corresponding observation sequence.\n",
        "\n",
        "  #for 1st iteration it will pair up first states sequence and its corresponding observ sequence .\n",
        "\n",
        "  # ['H','L','L','H','H','L','H'] and its corresponding 1st observ sequence ['R','R','D','D','R','D','R']\n",
        "\n",
        "    for single_state, single_observation in zip(state_seq, observation_seq) :\n",
        "\n",
        "      #it will pair sigle state and its corresponding observation. Example, H will pair up its corresponding observation R\n",
        "\n",
        "      state_counts[single_state] += 1   # counts H,l how many times appers\n",
        "\n",
        "      emission_counts[single_state][single_observation] += 1  #count observ k observation from i states\n",
        "\n",
        "  for state in emission_counts:\n",
        "\n",
        "    emission_probabilitie[state] = {}\n",
        "\n",
        "    for observation in emission_counts[state]:\n",
        "\n",
        "      # bik(observing k from state i)=( number of observation of k from i state)/(total number of i)\n",
        "\n",
        "      emission_probabilitie[state][observation] = emission_counts[state][observation] / state_counts[state]\n",
        "\n",
        "  return emission_probabilitie\n",
        "\n"
      ],
      "metadata": {
        "id": "_d6q--YEDhQ5"
      },
      "execution_count": null,
      "outputs": []
    },
    {
      "cell_type": "markdown",
      "source": [
        "**Main Functions**"
      ],
      "metadata": {
        "id": "mQFPyOGCZEHt"
      }
    },
    {
      "cell_type": "code",
      "source": [
        "initial_probabilitie = count_initial_probabilities(states)\n",
        "\n",
        "\n",
        "transition_probabilities = count_transition_probabilities(states)\n",
        "\n",
        "\n",
        "emission_probabilities = count_emission_probabilities(states,observations)\n",
        "\n",
        "\n",
        "print (\"Initial Probabilities:\",initial_probabilitie)\n",
        "\n",
        "print (\"Transition Probabilities:\",transition_probabilities)\n",
        "\n",
        "print (\"Emission Probabilities:\",emission_probabilities)\n",
        "\n"
      ],
      "metadata": {
        "colab": {
          "base_uri": "https://localhost:8080/"
        },
        "id": "rwJZiFzjZXSC",
        "outputId": "0f825581-d846-47a9-f501-d905e5f9c023"
      },
      "execution_count": null,
      "outputs": [
        {
          "output_type": "stream",
          "name": "stdout",
          "text": [
            "Initial Probabilities: {'H': 0.4, 'l': 0.6}\n",
            "Transition Probabilities: {'H': {'H': 0.5294117647058824, 'L': 0.47058823529411764}, 'L': {'H': 0.6923076923076923, 'L': 0.3076923076923077}}\n",
            "Emission Probabilities: {'H': {'R': 0.45, 'D': 0.55}, 'L': {'R': 0.4666666666666667, 'D': 0.5333333333333333}}\n"
          ]
        }
      ]
    },
    {
      "cell_type": "markdown",
      "source": [],
      "metadata": {
        "id": "VRf9StzawXtR"
      }
    }
  ]
}